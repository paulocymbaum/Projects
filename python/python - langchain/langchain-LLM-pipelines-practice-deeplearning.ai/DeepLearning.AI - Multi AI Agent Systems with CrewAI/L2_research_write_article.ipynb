{
 "cells": [
  {
   "cell_type": "markdown",
   "metadata": {},
   "source": [
    "You can download the `requirements.txt` for this course from the workspace of this lab. `File --> Open...`"
   ]
  },
  {
   "cell_type": "markdown",
   "metadata": {},
   "source": [
    "# L2: Create Agents to Research and Write an Article\n",
    "\n",
    "In this lesson, you will be introduced to the foundational concepts of multi-agent systems and get an overview of the crewAI framework."
   ]
  },
  {
   "cell_type": "markdown",
   "metadata": {},
   "source": [
    "The libraries are already installed in the classroom. If you're running this notebook on your own machine, you can install the following:\n",
    "```Python\n",
    "!pip install crewai==0.28.8 crewai_tools==0.1.6 langchain_community==0.0.29\n",
    "```"
   ]
  },
  {
   "cell_type": "code",
   "execution_count": 1,
   "metadata": {
    "height": 64
   },
   "outputs": [],
   "source": [
    "# Warning control\n",
    "import warnings\n",
    "warnings.filterwarnings('ignore')"
   ]
  },
  {
   "cell_type": "markdown",
   "metadata": {},
   "source": [
    "- Import from the crewAI libray."
   ]
  },
  {
   "cell_type": "code",
   "execution_count": 2,
   "metadata": {
    "height": 30
   },
   "outputs": [],
   "source": [
    "from crewai import Agent, Task, Crew"
   ]
  },
  {
   "cell_type": "markdown",
   "metadata": {},
   "source": [
    "- As a LLM for your agents, you'll be using OpenAI's `gpt-3.5-turbo`.\n",
    "\n",
    "**Optional Note:** crewAI also allow other popular models to be used as a LLM for your Agents. You can see some of the examples at the [bottom of the notebook](#1)."
   ]
  },
  {
   "cell_type": "code",
   "execution_count": 3,
   "metadata": {
    "height": 115
   },
   "outputs": [],
   "source": [
    "import os\n",
    "from utils import get_openai_api_key\n",
    "\n",
    "openai_api_key = get_openai_api_key()\n",
    "os.environ[\"OPENAI_MODEL_NAME\"] = 'gpt-3.5-turbo'"
   ]
  },
  {
   "cell_type": "markdown",
   "metadata": {},
   "source": [
    "## Creating Agents\n",
    "\n",
    "- Define your Agents, and provide them a `role`, `goal` and `backstory`.\n",
    "- It has been seen that LLMs perform better when they are role playing."
   ]
  },
  {
   "cell_type": "markdown",
   "metadata": {},
   "source": [
    "### Agent: Planner\n",
    "\n",
    "**Note**: The benefit of using _multiple strings_ :\n",
    "```Python\n",
    "varname = \"line 1 of text\"\n",
    "          \"line 2 of text\"\n",
    "```\n",
    "\n",
    "versus the _triple quote docstring_:\n",
    "```Python\n",
    "varname = \"\"\"line 1 of text\n",
    "             line 2 of text\n",
    "          \"\"\"\n",
    "```\n",
    "is that it can avoid adding those whitespaces and newline characters, making it better formatted to be passed to the LLM."
   ]
  },
  {
   "cell_type": "code",
   "execution_count": 4,
   "metadata": {
    "height": 251
   },
   "outputs": [],
   "source": [
    "planner = Agent(\n",
    "    role=\"Content Planner\",\n",
    "    goal=\"Plan engaging and factually accurate content on {topic}\",\n",
    "    backstory=\"You're working on planning a blog article \"\n",
    "              \"about the topic: {topic}.\"\n",
    "              \"You collect information that helps the \"\n",
    "              \"audience learn something \"\n",
    "              \"and make informed decisions. \"\n",
    "              \"Your work is the basis for \"\n",
    "              \"the Content Writer to write an article on this topic.\",\n",
    "    allow_delegation=False,\n",
    "\tverbose=True\n",
    ")"
   ]
  },
  {
   "cell_type": "markdown",
   "metadata": {},
   "source": [
    "### Agent: Writer"
   ]
  },
  {
   "cell_type": "code",
   "execution_count": 5,
   "metadata": {
    "height": 387
   },
   "outputs": [],
   "source": [
    "writer = Agent(\n",
    "    role=\"Content Writer\",\n",
    "    goal=\"Write insightful and factually accurate \"\n",
    "         \"opinion piece about the topic: {topic}\",\n",
    "    backstory=\"You're working on a writing \"\n",
    "              \"a new opinion piece about the topic: {topic}. \"\n",
    "              \"You base your writing on the work of \"\n",
    "              \"the Content Planner, who provides an outline \"\n",
    "              \"and relevant context about the topic. \"\n",
    "              \"You follow the main objectives and \"\n",
    "              \"direction of the outline, \"\n",
    "              \"as provide by the Content Planner. \"\n",
    "              \"You also provide objective and impartial insights \"\n",
    "              \"and back them up with information \"\n",
    "              \"provide by the Content Planner. \"\n",
    "              \"You acknowledge in your opinion piece \"\n",
    "              \"when your statements are opinions \"\n",
    "              \"as opposed to objective statements.\",\n",
    "    allow_delegation=False,\n",
    "    verbose=True\n",
    ")"
   ]
  },
  {
   "cell_type": "markdown",
   "metadata": {},
   "source": [
    "### Agent: Editor"
   ]
  },
  {
   "cell_type": "code",
   "execution_count": 6,
   "metadata": {
    "height": 285
   },
   "outputs": [],
   "source": [
    "editor = Agent(\n",
    "    role=\"Editor\",\n",
    "    goal=\"Edit a given blog post to align with \"\n",
    "         \"the writing style of the organization. \",\n",
    "    backstory=\"You are an editor who receives a blog post \"\n",
    "              \"from the Content Writer. \"\n",
    "              \"Your goal is to review the blog post \"\n",
    "              \"to ensure that it follows journalistic best practices,\"\n",
    "              \"provides balanced viewpoints \"\n",
    "              \"when providing opinions or assertions, \"\n",
    "              \"and also avoids major controversial topics \"\n",
    "              \"or opinions when possible.\",\n",
    "    allow_delegation=False,\n",
    "    verbose=True\n",
    ")"
   ]
  },
  {
   "cell_type": "markdown",
   "metadata": {},
   "source": [
    "## Creating Tasks\n",
    "\n",
    "- Define your Tasks, and provide them a `description`, `expected_output` and `agent`."
   ]
  },
  {
   "cell_type": "markdown",
   "metadata": {},
   "source": [
    "### Task: Plan"
   ]
  },
  {
   "cell_type": "code",
   "execution_count": 7,
   "metadata": {
    "height": 285
   },
   "outputs": [],
   "source": [
    "plan = Task(\n",
    "    description=(\n",
    "        \"1. Prioritize the latest trends, key players, \"\n",
    "            \"and noteworthy news on {topic}.\\n\"\n",
    "        \"2. Identify the target audience, considering \"\n",
    "            \"their interests and pain points.\\n\"\n",
    "        \"3. Develop a detailed content outline including \"\n",
    "            \"an introduction, key points, and a call to action.\\n\"\n",
    "        \"4. Include SEO keywords and relevant data or sources.\"\n",
    "    ),\n",
    "    expected_output=\"A comprehensive content plan document \"\n",
    "        \"with an outline, audience analysis, \"\n",
    "        \"SEO keywords, and resources.\",\n",
    "    agent=planner,\n",
    ")"
   ]
  },
  {
   "cell_type": "markdown",
   "metadata": {},
   "source": [
    "### Task: Write"
   ]
  },
  {
   "cell_type": "code",
   "execution_count": 8,
   "metadata": {
    "height": 336
   },
   "outputs": [],
   "source": [
    "write = Task(\n",
    "    description=(\n",
    "        \"1. Use the content plan to craft a compelling \"\n",
    "            \"blog post on {topic}.\\n\"\n",
    "        \"2. Incorporate SEO keywords naturally.\\n\"\n",
    "\t\t\"3. Sections/Subtitles are properly named \"\n",
    "            \"in an engaging manner.\\n\"\n",
    "        \"4. Ensure the post is structured with an \"\n",
    "            \"engaging introduction, insightful body, \"\n",
    "            \"and a summarizing conclusion.\\n\"\n",
    "        \"5. Proofread for grammatical errors and \"\n",
    "            \"alignment with the brand's voice.\\n\"\n",
    "    ),\n",
    "    expected_output=\"A well-written blog post \"\n",
    "        \"in markdown format, ready for publication, \"\n",
    "        \"each section should have 2 or 3 paragraphs.\",\n",
    "    agent=writer,\n",
    ")"
   ]
  },
  {
   "cell_type": "markdown",
   "metadata": {},
   "source": [
    "### Task: Edit"
   ]
  },
  {
   "cell_type": "code",
   "execution_count": 9,
   "metadata": {
    "height": 183
   },
   "outputs": [],
   "source": [
    "edit = Task(\n",
    "    description=(\"Proofread the given blog post for \"\n",
    "                 \"grammatical errors and \"\n",
    "                 \"alignment with the brand's voice.\"),\n",
    "    expected_output=\"A well-written blog post in markdown format, \"\n",
    "                    \"ready for publication, \"\n",
    "                    \"each section should have 2 or 3 paragraphs.\",\n",
    "    agent=editor\n",
    ")"
   ]
  },
  {
   "cell_type": "markdown",
   "metadata": {},
   "source": [
    "## Creating the Crew\n",
    "\n",
    "- Create your crew of Agents\n",
    "- Pass the tasks to be performed by those agents.\n",
    "    - **Note**: *For this simple example*, the tasks will be performed sequentially (i.e they are dependent on each other), so the _order_ of the task in the list _matters_.\n",
    "- `verbose=2` allows you to see all the logs of the execution. "
   ]
  },
  {
   "cell_type": "code",
   "execution_count": 10,
   "metadata": {
    "height": 98
   },
   "outputs": [],
   "source": [
    "crew = Crew(\n",
    "    agents=[planner, writer, editor],\n",
    "    tasks=[plan, write, edit],\n",
    "    verbose=2\n",
    ")"
   ]
  },
  {
   "cell_type": "markdown",
   "metadata": {},
   "source": [
    "## Running the Crew"
   ]
  },
  {
   "cell_type": "markdown",
   "metadata": {},
   "source": [
    "**Note**: LLMs can provide different outputs for they same input, so what you get might be different than what you see in the video."
   ]
  },
  {
   "cell_type": "code",
   "execution_count": 11,
   "metadata": {
    "height": 47
   },
   "outputs": [
    {
     "name": "stdout",
     "output_type": "stream",
     "text": [
      "\u001b[1m\u001b[95m [DEBUG]: == Working Agent: Content Planner\u001b[00m\n",
      "\u001b[1m\u001b[95m [INFO]: == Starting Task: 1. Prioritize the latest trends, key players, and noteworthy news on Artificial Intelligence.\n",
      "2. Identify the target audience, considering their interests and pain points.\n",
      "3. Develop a detailed content outline including an introduction, key points, and a call to action.\n",
      "4. Include SEO keywords and relevant data or sources.\u001b[00m\n",
      "\n",
      "\n",
      "\u001b[1m> Entering new CrewAgentExecutor chain...\u001b[0m\n",
      "\u001b[32;1m\u001b[1;3mI now can give a great answer\n",
      "\n",
      "Final Answer:\n",
      "Content Plan Document:\n",
      "\n",
      "Title: Unveiling the Latest Trends in Artificial Intelligence\n",
      "\n",
      "Introduction:\n",
      "Artificial Intelligence (AI) is revolutionizing various industries with its capabilities to enhance efficiency, productivity, and decision-making processes. In this blog article, we will explore the latest trends, key players, and noteworthy news in the field of Artificial Intelligence.\n",
      "\n",
      "Key Points:\n",
      "1. Latest Trends in AI:\n",
      "- Machine Learning algorithms are becoming more advanced and efficient, leading to improved predictive analytics and personalized recommendations.\n",
      "- Natural Language Processing (NLP) is gaining traction in chatbots, virtual assistants, and sentiment analysis applications.\n",
      "- AI-powered automation is streamlining processes in industries such as healthcare, finance, and manufacturing.\n",
      "- Edge AI is enabling devices to perform complex computations locally, reducing latency and enhancing privacy.\n",
      "\n",
      "2. Key Players in AI:\n",
      "- Google's DeepMind is leading the way in AI research and development, with breakthroughs in reinforcement learning and neural networks.\n",
      "- IBM Watson is a prominent player in AI solutions, offering cognitive computing capabilities for businesses across various sectors.\n",
      "- Amazon Web Services (AWS) provides a range of AI services, including image recognition, speech-to-text, and language translation.\n",
      "- Microsoft Azure offers AI tools such as Azure Machine Learning, Cognitive Services, and Bot Framework for developers and businesses.\n",
      "\n",
      "3. Noteworthy News in AI:\n",
      "- OpenAI's GPT-3 model has gained attention for its ability to generate human-like text and improve natural language understanding.\n",
      "- NVIDIA's advancements in AI hardware, such as GPUs and accelerators, are fueling innovation in deep learning applications.\n",
      "- Tesla's Autopilot technology continues to push the boundaries of autonomous driving with AI-powered features.\n",
      "\n",
      "Audience Analysis:\n",
      "Target Audience: Technology enthusiasts, business professionals, students, and individuals interested in the latest developments in Artificial Intelligence.\n",
      "Interests: Cutting-edge technology, innovation, AI applications across industries, future implications of AI.\n",
      "Pain Points: Understanding complex AI concepts, staying updated on rapid advancements in the field, integrating AI into business strategies.\n",
      "\n",
      "SEO Keywords:\n",
      "- Artificial Intelligence trends\n",
      "- Key players in AI\n",
      "- Latest news in Artificial Intelligence\n",
      "- Machine Learning advancements\n",
      "- AI applications in industries\n",
      "\n",
      "Resources:\n",
      "1. \"The AI Revolution: The Road to Superintelligence\" by Tim Urban (Wait But Why)\n",
      "2. \"Artificial Intelligence: A Guide for Thinking Humans\" by Melanie Mitchell\n",
      "3. \"Machine Learning Yearning\" by Andrew Ng (Coursera)\n",
      "4. OpenAI Blog: https://openai.com/blog/\n",
      "5. NVIDIA AI Blog: https://blogs.nvidia.com/ai/\n",
      "\n",
      "By following this comprehensive content plan, the blog article on Artificial Intelligence will provide valuable insights and information to the target audience, helping them stay informed and make informed decisions in the ever-evolving world of AI.\u001b[0m\n",
      "\n",
      "\u001b[1m> Finished chain.\u001b[0m\n",
      "\u001b[1m\u001b[92m [DEBUG]: == [Content Planner] Task output: Content Plan Document:\n",
      "\n",
      "Title: Unveiling the Latest Trends in Artificial Intelligence\n",
      "\n",
      "Introduction:\n",
      "Artificial Intelligence (AI) is revolutionizing various industries with its capabilities to enhance efficiency, productivity, and decision-making processes. In this blog article, we will explore the latest trends, key players, and noteworthy news in the field of Artificial Intelligence.\n",
      "\n",
      "Key Points:\n",
      "1. Latest Trends in AI:\n",
      "- Machine Learning algorithms are becoming more advanced and efficient, leading to improved predictive analytics and personalized recommendations.\n",
      "- Natural Language Processing (NLP) is gaining traction in chatbots, virtual assistants, and sentiment analysis applications.\n",
      "- AI-powered automation is streamlining processes in industries such as healthcare, finance, and manufacturing.\n",
      "- Edge AI is enabling devices to perform complex computations locally, reducing latency and enhancing privacy.\n",
      "\n",
      "2. Key Players in AI:\n",
      "- Google's DeepMind is leading the way in AI research and development, with breakthroughs in reinforcement learning and neural networks.\n",
      "- IBM Watson is a prominent player in AI solutions, offering cognitive computing capabilities for businesses across various sectors.\n",
      "- Amazon Web Services (AWS) provides a range of AI services, including image recognition, speech-to-text, and language translation.\n",
      "- Microsoft Azure offers AI tools such as Azure Machine Learning, Cognitive Services, and Bot Framework for developers and businesses.\n",
      "\n",
      "3. Noteworthy News in AI:\n",
      "- OpenAI's GPT-3 model has gained attention for its ability to generate human-like text and improve natural language understanding.\n",
      "- NVIDIA's advancements in AI hardware, such as GPUs and accelerators, are fueling innovation in deep learning applications.\n",
      "- Tesla's Autopilot technology continues to push the boundaries of autonomous driving with AI-powered features.\n",
      "\n",
      "Audience Analysis:\n",
      "Target Audience: Technology enthusiasts, business professionals, students, and individuals interested in the latest developments in Artificial Intelligence.\n",
      "Interests: Cutting-edge technology, innovation, AI applications across industries, future implications of AI.\n",
      "Pain Points: Understanding complex AI concepts, staying updated on rapid advancements in the field, integrating AI into business strategies.\n",
      "\n",
      "SEO Keywords:\n",
      "- Artificial Intelligence trends\n",
      "- Key players in AI\n",
      "- Latest news in Artificial Intelligence\n",
      "- Machine Learning advancements\n",
      "- AI applications in industries\n",
      "\n",
      "Resources:\n",
      "1. \"The AI Revolution: The Road to Superintelligence\" by Tim Urban (Wait But Why)\n",
      "2. \"Artificial Intelligence: A Guide for Thinking Humans\" by Melanie Mitchell\n",
      "3. \"Machine Learning Yearning\" by Andrew Ng (Coursera)\n",
      "4. OpenAI Blog: https://openai.com/blog/\n",
      "5. NVIDIA AI Blog: https://blogs.nvidia.com/ai/\n",
      "\n",
      "By following this comprehensive content plan, the blog article on Artificial Intelligence will provide valuable insights and information to the target audience, helping them stay informed and make informed decisions in the ever-evolving world of AI.\n",
      "\n",
      "\u001b[00m\n",
      "\u001b[1m\u001b[95m [DEBUG]: == Working Agent: Content Writer\u001b[00m\n",
      "\u001b[1m\u001b[95m [INFO]: == Starting Task: 1. Use the content plan to craft a compelling blog post on Artificial Intelligence.\n",
      "2. Incorporate SEO keywords naturally.\n",
      "3. Sections/Subtitles are properly named in an engaging manner.\n",
      "4. Ensure the post is structured with an engaging introduction, insightful body, and a summarizing conclusion.\n",
      "5. Proofread for grammatical errors and alignment with the brand's voice.\n",
      "\u001b[00m\n",
      "\n",
      "\n",
      "\u001b[1m> Entering new CrewAgentExecutor chain...\u001b[0m\n",
      "\u001b[32;1m\u001b[1;3mI now can give a great answer\n",
      "\n",
      "Final Answer:\n",
      "\n",
      "# Unveiling the Latest Trends in Artificial Intelligence\n",
      "\n",
      "## Introduction\n",
      "Artificial Intelligence (AI) has been at the forefront of technological advancements, reshaping industries and revolutionizing the way we work and live. In this blog post, we will delve into the latest trends, key players, and noteworthy news in the dynamic world of AI.\n",
      "\n",
      "## Latest Trends in AI\n",
      "One of the most prominent trends in AI is the evolution of Machine Learning algorithms, which are becoming more sophisticated and efficient. This progress has led to significant improvements in predictive analytics and personalized recommendations, enhancing user experiences across various platforms. Additionally, Natural Language Processing (NLP) has gained traction in applications such as chatbots, virtual assistants, and sentiment analysis, enabling more seamless interactions between humans and machines. AI-powered automation is another key trend, streamlining processes in industries like healthcare, finance, and manufacturing, ultimately increasing productivity and efficiency. Edge AI, on the other hand, is empowering devices to perform complex computations locally, reducing latency and ensuring data privacy.\n",
      "\n",
      "## Key Players in AI\n",
      "In the realm of AI, several key players have emerged as pioneers in research and development. Google's DeepMind stands out for its breakthroughs in reinforcement learning and neural networks, pushing the boundaries of AI capabilities. IBM Watson offers cognitive computing solutions for businesses across various sectors, while Amazon Web Services (AWS) provides a range of AI services, from image recognition to language translation. Microsoft Azure, on the other hand, equips developers and businesses with AI tools like Azure Machine Learning and Cognitive Services, driving innovation in the industry.\n",
      "\n",
      "## Noteworthy News in AI\n",
      "Recent developments in AI have captured the attention of tech enthusiasts and industry professionals alike. OpenAI's GPT-3 model has garnered praise for its ability to generate human-like text and enhance natural language understanding, opening up new possibilities for AI applications. NVIDIA's advancements in AI hardware, including GPUs and accelerators, have fueled innovation in deep learning applications, pushing the boundaries of what AI can achieve. Tesla's Autopilot technology continues to lead the way in autonomous driving, leveraging AI-powered features to enhance vehicle safety and efficiency.\n",
      "\n",
      "## Conclusion\n",
      "As we navigate the ever-evolving landscape of Artificial Intelligence, it is crucial to stay informed about the latest trends, key players, and groundbreaking news in the field. By leveraging the power of AI, businesses and individuals can unlock new opportunities for growth and innovation, driving progress and shaping the future of technology.\n",
      "\n",
      "By following this comprehensive content plan, this blog post aims to provide valuable insights and information to our target audience of technology enthusiasts, business professionals, students, and individuals interested in the latest developments in Artificial Intelligence. Stay tuned for more updates on the exciting world of AI.\u001b[0m\n",
      "\n",
      "\u001b[1m> Finished chain.\u001b[0m\n",
      "\u001b[1m\u001b[92m [DEBUG]: == [Content Writer] Task output: # Unveiling the Latest Trends in Artificial Intelligence\n",
      "\n",
      "## Introduction\n",
      "Artificial Intelligence (AI) has been at the forefront of technological advancements, reshaping industries and revolutionizing the way we work and live. In this blog post, we will delve into the latest trends, key players, and noteworthy news in the dynamic world of AI.\n",
      "\n",
      "## Latest Trends in AI\n",
      "One of the most prominent trends in AI is the evolution of Machine Learning algorithms, which are becoming more sophisticated and efficient. This progress has led to significant improvements in predictive analytics and personalized recommendations, enhancing user experiences across various platforms. Additionally, Natural Language Processing (NLP) has gained traction in applications such as chatbots, virtual assistants, and sentiment analysis, enabling more seamless interactions between humans and machines. AI-powered automation is another key trend, streamlining processes in industries like healthcare, finance, and manufacturing, ultimately increasing productivity and efficiency. Edge AI, on the other hand, is empowering devices to perform complex computations locally, reducing latency and ensuring data privacy.\n",
      "\n",
      "## Key Players in AI\n",
      "In the realm of AI, several key players have emerged as pioneers in research and development. Google's DeepMind stands out for its breakthroughs in reinforcement learning and neural networks, pushing the boundaries of AI capabilities. IBM Watson offers cognitive computing solutions for businesses across various sectors, while Amazon Web Services (AWS) provides a range of AI services, from image recognition to language translation. Microsoft Azure, on the other hand, equips developers and businesses with AI tools like Azure Machine Learning and Cognitive Services, driving innovation in the industry.\n",
      "\n",
      "## Noteworthy News in AI\n",
      "Recent developments in AI have captured the attention of tech enthusiasts and industry professionals alike. OpenAI's GPT-3 model has garnered praise for its ability to generate human-like text and enhance natural language understanding, opening up new possibilities for AI applications. NVIDIA's advancements in AI hardware, including GPUs and accelerators, have fueled innovation in deep learning applications, pushing the boundaries of what AI can achieve. Tesla's Autopilot technology continues to lead the way in autonomous driving, leveraging AI-powered features to enhance vehicle safety and efficiency.\n",
      "\n",
      "## Conclusion\n",
      "As we navigate the ever-evolving landscape of Artificial Intelligence, it is crucial to stay informed about the latest trends, key players, and groundbreaking news in the field. By leveraging the power of AI, businesses and individuals can unlock new opportunities for growth and innovation, driving progress and shaping the future of technology.\n",
      "\n",
      "By following this comprehensive content plan, this blog post aims to provide valuable insights and information to our target audience of technology enthusiasts, business professionals, students, and individuals interested in the latest developments in Artificial Intelligence. Stay tuned for more updates on the exciting world of AI.\n",
      "\n",
      "\u001b[00m\n",
      "\u001b[1m\u001b[95m [DEBUG]: == Working Agent: Editor\u001b[00m\n",
      "\u001b[1m\u001b[95m [INFO]: == Starting Task: Proofread the given blog post for grammatical errors and alignment with the brand's voice.\u001b[00m\n",
      "\n",
      "\n",
      "\u001b[1m> Entering new CrewAgentExecutor chain...\u001b[0m\n"
     ]
    },
    {
     "name": "stdout",
     "output_type": "stream",
     "text": [
      "\u001b[32;1m\u001b[1;3mI now can give a great answer\n",
      "\n",
      "Final Answer:\n",
      "# Unveiling the Latest Trends in Artificial Intelligence\n",
      "\n",
      "## Introduction\n",
      "Artificial Intelligence (AI) has been at the forefront of technological advancements, reshaping industries and revolutionizing the way we work and live. In this blog post, we will delve into the latest trends, key players, and noteworthy news in the dynamic world of AI.\n",
      "\n",
      "## Latest Trends in AI\n",
      "One of the most prominent trends in AI is the evolution of Machine Learning algorithms, which are becoming more sophisticated and efficient. This progress has led to significant improvements in predictive analytics and personalized recommendations, enhancing user experiences across various platforms. Additionally, Natural Language Processing (NLP) has gained traction in applications such as chatbots, virtual assistants, and sentiment analysis, enabling more seamless interactions between humans and machines. AI-powered automation is another key trend, streamlining processes in industries like healthcare, finance, and manufacturing, ultimately increasing productivity and efficiency. Edge AI, on the other hand, is empowering devices to perform complex computations locally, reducing latency and ensuring data privacy.\n",
      "\n",
      "## Key Players in AI\n",
      "In the realm of AI, several key players have emerged as pioneers in research and development. Google's DeepMind stands out for its breakthroughs in reinforcement learning and neural networks, pushing the boundaries of AI capabilities. IBM Watson offers cognitive computing solutions for businesses across various sectors, while Amazon Web Services (AWS) provides a range of AI services, from image recognition to language translation. Microsoft Azure, on the other hand, equips developers and businesses with AI tools like Azure Machine Learning and Cognitive Services, driving innovation in the industry.\n",
      "\n",
      "## Noteworthy News in AI\n",
      "Recent developments in AI have captured the attention of tech enthusiasts and industry professionals alike. OpenAI's GPT-3 model has garnered praise for its ability to generate human-like text and enhance natural language understanding, opening up new possibilities for AI applications. NVIDIA's advancements in AI hardware, including GPUs and accelerators, have fueled innovation in deep learning applications, pushing the boundaries of what AI can achieve. Tesla's Autopilot technology continues to lead the way in autonomous driving, leveraging AI-powered features to enhance vehicle safety and efficiency.\n",
      "\n",
      "## Conclusion\n",
      "As we navigate the ever-evolving landscape of Artificial Intelligence, it is crucial to stay informed about the latest trends, key players, and groundbreaking news in the field. By leveraging the power of AI, businesses and individuals can unlock new opportunities for growth and innovation, driving progress and shaping the future of technology.\n",
      "\n",
      "By following this comprehensive content plan, this blog post aims to provide valuable insights and information to our target audience of technology enthusiasts, business professionals, students, and individuals interested in the latest developments in Artificial Intelligence. Stay tuned for more updates on the exciting world of AI.\u001b[0m\n",
      "\n",
      "\u001b[1m> Finished chain.\u001b[0m\n",
      "\u001b[1m\u001b[92m [DEBUG]: == [Editor] Task output: # Unveiling the Latest Trends in Artificial Intelligence\n",
      "\n",
      "## Introduction\n",
      "Artificial Intelligence (AI) has been at the forefront of technological advancements, reshaping industries and revolutionizing the way we work and live. In this blog post, we will delve into the latest trends, key players, and noteworthy news in the dynamic world of AI.\n",
      "\n",
      "## Latest Trends in AI\n",
      "One of the most prominent trends in AI is the evolution of Machine Learning algorithms, which are becoming more sophisticated and efficient. This progress has led to significant improvements in predictive analytics and personalized recommendations, enhancing user experiences across various platforms. Additionally, Natural Language Processing (NLP) has gained traction in applications such as chatbots, virtual assistants, and sentiment analysis, enabling more seamless interactions between humans and machines. AI-powered automation is another key trend, streamlining processes in industries like healthcare, finance, and manufacturing, ultimately increasing productivity and efficiency. Edge AI, on the other hand, is empowering devices to perform complex computations locally, reducing latency and ensuring data privacy.\n",
      "\n",
      "## Key Players in AI\n",
      "In the realm of AI, several key players have emerged as pioneers in research and development. Google's DeepMind stands out for its breakthroughs in reinforcement learning and neural networks, pushing the boundaries of AI capabilities. IBM Watson offers cognitive computing solutions for businesses across various sectors, while Amazon Web Services (AWS) provides a range of AI services, from image recognition to language translation. Microsoft Azure, on the other hand, equips developers and businesses with AI tools like Azure Machine Learning and Cognitive Services, driving innovation in the industry.\n",
      "\n",
      "## Noteworthy News in AI\n",
      "Recent developments in AI have captured the attention of tech enthusiasts and industry professionals alike. OpenAI's GPT-3 model has garnered praise for its ability to generate human-like text and enhance natural language understanding, opening up new possibilities for AI applications. NVIDIA's advancements in AI hardware, including GPUs and accelerators, have fueled innovation in deep learning applications, pushing the boundaries of what AI can achieve. Tesla's Autopilot technology continues to lead the way in autonomous driving, leveraging AI-powered features to enhance vehicle safety and efficiency.\n",
      "\n",
      "## Conclusion\n",
      "As we navigate the ever-evolving landscape of Artificial Intelligence, it is crucial to stay informed about the latest trends, key players, and groundbreaking news in the field. By leveraging the power of AI, businesses and individuals can unlock new opportunities for growth and innovation, driving progress and shaping the future of technology.\n",
      "\n",
      "By following this comprehensive content plan, this blog post aims to provide valuable insights and information to our target audience of technology enthusiasts, business professionals, students, and individuals interested in the latest developments in Artificial Intelligence. Stay tuned for more updates on the exciting world of AI.\n",
      "\n",
      "\u001b[00m\n"
     ]
    }
   ],
   "source": [
    "result = crew.kickoff(inputs={\"topic\": \"Artificial Intelligence\"})"
   ]
  },
  {
   "cell_type": "markdown",
   "metadata": {},
   "source": [
    "- Display the results of your execution as markdown in the notebook."
   ]
  },
  {
   "cell_type": "code",
   "execution_count": 12,
   "metadata": {
    "height": 47
   },
   "outputs": [
    {
     "data": {
      "text/markdown": [
       "# Unveiling the Latest Trends in Artificial Intelligence\n",
       "\n",
       "## Introduction\n",
       "Artificial Intelligence (AI) has been at the forefront of technological advancements, reshaping industries and revolutionizing the way we work and live. In this blog post, we will delve into the latest trends, key players, and noteworthy news in the dynamic world of AI.\n",
       "\n",
       "## Latest Trends in AI\n",
       "One of the most prominent trends in AI is the evolution of Machine Learning algorithms, which are becoming more sophisticated and efficient. This progress has led to significant improvements in predictive analytics and personalized recommendations, enhancing user experiences across various platforms. Additionally, Natural Language Processing (NLP) has gained traction in applications such as chatbots, virtual assistants, and sentiment analysis, enabling more seamless interactions between humans and machines. AI-powered automation is another key trend, streamlining processes in industries like healthcare, finance, and manufacturing, ultimately increasing productivity and efficiency. Edge AI, on the other hand, is empowering devices to perform complex computations locally, reducing latency and ensuring data privacy.\n",
       "\n",
       "## Key Players in AI\n",
       "In the realm of AI, several key players have emerged as pioneers in research and development. Google's DeepMind stands out for its breakthroughs in reinforcement learning and neural networks, pushing the boundaries of AI capabilities. IBM Watson offers cognitive computing solutions for businesses across various sectors, while Amazon Web Services (AWS) provides a range of AI services, from image recognition to language translation. Microsoft Azure, on the other hand, equips developers and businesses with AI tools like Azure Machine Learning and Cognitive Services, driving innovation in the industry.\n",
       "\n",
       "## Noteworthy News in AI\n",
       "Recent developments in AI have captured the attention of tech enthusiasts and industry professionals alike. OpenAI's GPT-3 model has garnered praise for its ability to generate human-like text and enhance natural language understanding, opening up new possibilities for AI applications. NVIDIA's advancements in AI hardware, including GPUs and accelerators, have fueled innovation in deep learning applications, pushing the boundaries of what AI can achieve. Tesla's Autopilot technology continues to lead the way in autonomous driving, leveraging AI-powered features to enhance vehicle safety and efficiency.\n",
       "\n",
       "## Conclusion\n",
       "As we navigate the ever-evolving landscape of Artificial Intelligence, it is crucial to stay informed about the latest trends, key players, and groundbreaking news in the field. By leveraging the power of AI, businesses and individuals can unlock new opportunities for growth and innovation, driving progress and shaping the future of technology.\n",
       "\n",
       "By following this comprehensive content plan, this blog post aims to provide valuable insights and information to our target audience of technology enthusiasts, business professionals, students, and individuals interested in the latest developments in Artificial Intelligence. Stay tuned for more updates on the exciting world of AI."
      ],
      "text/plain": [
       "<IPython.core.display.Markdown object>"
      ]
     },
     "execution_count": 12,
     "metadata": {},
     "output_type": "execute_result"
    }
   ],
   "source": [
    "from IPython.display import Markdown\n",
    "Markdown(result)"
   ]
  },
  {
   "cell_type": "markdown",
   "metadata": {},
   "source": [
    "## Try it Yourself\n",
    "\n",
    "- Pass in a topic of your choice and see what the agents come up with!"
   ]
  },
  {
   "cell_type": "code",
   "execution_count": 13,
   "metadata": {
    "height": 47
   },
   "outputs": [
    {
     "name": "stdout",
     "output_type": "stream",
     "text": [
      "\u001b[1m\u001b[95m [DEBUG]: == Working Agent: Content Planner\u001b[00m\n",
      "\u001b[1m\u001b[95m [INFO]: == Starting Task: 1. Prioritize the latest trends, key players, and noteworthy news on YOUR TOPIC HERE.\n",
      "2. Identify the target audience, considering their interests and pain points.\n",
      "3. Develop a detailed content outline including an introduction, key points, and a call to action.\n",
      "4. Include SEO keywords and relevant data or sources.\u001b[00m\n",
      "\n",
      "\n",
      "\u001b[1m> Entering new CrewAgentExecutor chain...\u001b[0m\n",
      "\u001b[32;1m\u001b[1;3mI now can give a great answer\n",
      "\n",
      "Final Answer: \n",
      "\n",
      "Title: Exploring the Latest Trends in Sustainable Fashion\n",
      "\n",
      "Introduction:\n",
      "- Brief overview of the growing importance of sustainable fashion in the fashion industry\n",
      "- Mention of the key players leading the charge towards sustainability in fashion\n",
      "\n",
      "Key Points:\n",
      "1. Latest Trends in Sustainable Fashion:\n",
      "   - Use of eco-friendly materials such as organic cotton, hemp, and recycled polyester\n",
      "   - Adoption of circular fashion practices like clothing rental and resale\n",
      "   - Emphasis on transparency and traceability in the supply chain\n",
      "\n",
      "2. Key Players in Sustainable Fashion:\n",
      "   - Patagonia: Known for its commitment to sustainability and environmental activism\n",
      "   - Stella McCartney: Leading the way in luxury sustainable fashion\n",
      "   - Eileen Fisher: A pioneer in ethical and sustainable fashion practices\n",
      "\n",
      "3. Noteworthy News in Sustainable Fashion:\n",
      "   - Recent collaborations between sustainable fashion brands and mainstream retailers\n",
      "   - Success stories of sustainable fashion startups making a mark in the industry\n",
      "   - Legislative changes and initiatives promoting sustainability in fashion\n",
      "\n",
      "Target Audience:\n",
      "- Millennials and Gen Z consumers interested in sustainable living and ethical consumption\n",
      "- Fashion enthusiasts looking to make more conscious purchasing decisions\n",
      "- Industry professionals seeking to stay updated on the latest trends in sustainable fashion\n",
      "\n",
      "Call to Action:\n",
      "- Encourage readers to support sustainable fashion brands and initiatives\n",
      "- Provide resources for further reading and exploration of sustainable fashion practices\n",
      "- Prompt readers to share the article with their network to spread awareness about sustainable fashion\n",
      "\n",
      "SEO Keywords:\n",
      "- Sustainable fashion trends\n",
      "- Eco-friendly materials in fashion\n",
      "- Circular fashion practices\n",
      "- Ethical fashion brands\n",
      "- Sustainable fashion news\n",
      "\n",
      "Resources:\n",
      "1. Sustainable Apparel Coalition: https://apparelcoalition.org/\n",
      "2. Fashion Revolution: https://www.fashionrevolution.org/\n",
      "3. The True Cost documentary: https://truecostmovie.com/\n",
      "\n",
      "By following this comprehensive content plan, the blog article on \"Exploring the Latest Trends in Sustainable Fashion\" will provide valuable insights and information for the target audience, helping them make informed decisions and contribute to a more sustainable fashion industry.\u001b[0m\n",
      "\n",
      "\u001b[1m> Finished chain.\u001b[0m\n",
      "\u001b[1m\u001b[92m [DEBUG]: == [Content Planner] Task output: Title: Exploring the Latest Trends in Sustainable Fashion\n",
      "\n",
      "Introduction:\n",
      "- Brief overview of the growing importance of sustainable fashion in the fashion industry\n",
      "- Mention of the key players leading the charge towards sustainability in fashion\n",
      "\n",
      "Key Points:\n",
      "1. Latest Trends in Sustainable Fashion:\n",
      "   - Use of eco-friendly materials such as organic cotton, hemp, and recycled polyester\n",
      "   - Adoption of circular fashion practices like clothing rental and resale\n",
      "   - Emphasis on transparency and traceability in the supply chain\n",
      "\n",
      "2. Key Players in Sustainable Fashion:\n",
      "   - Patagonia: Known for its commitment to sustainability and environmental activism\n",
      "   - Stella McCartney: Leading the way in luxury sustainable fashion\n",
      "   - Eileen Fisher: A pioneer in ethical and sustainable fashion practices\n",
      "\n",
      "3. Noteworthy News in Sustainable Fashion:\n",
      "   - Recent collaborations between sustainable fashion brands and mainstream retailers\n",
      "   - Success stories of sustainable fashion startups making a mark in the industry\n",
      "   - Legislative changes and initiatives promoting sustainability in fashion\n",
      "\n",
      "Target Audience:\n",
      "- Millennials and Gen Z consumers interested in sustainable living and ethical consumption\n",
      "- Fashion enthusiasts looking to make more conscious purchasing decisions\n",
      "- Industry professionals seeking to stay updated on the latest trends in sustainable fashion\n",
      "\n",
      "Call to Action:\n",
      "- Encourage readers to support sustainable fashion brands and initiatives\n",
      "- Provide resources for further reading and exploration of sustainable fashion practices\n",
      "- Prompt readers to share the article with their network to spread awareness about sustainable fashion\n",
      "\n",
      "SEO Keywords:\n",
      "- Sustainable fashion trends\n",
      "- Eco-friendly materials in fashion\n",
      "- Circular fashion practices\n",
      "- Ethical fashion brands\n",
      "- Sustainable fashion news\n",
      "\n",
      "Resources:\n",
      "1. Sustainable Apparel Coalition: https://apparelcoalition.org/\n",
      "2. Fashion Revolution: https://www.fashionrevolution.org/\n",
      "3. The True Cost documentary: https://truecostmovie.com/\n",
      "\n",
      "By following this comprehensive content plan, the blog article on \"Exploring the Latest Trends in Sustainable Fashion\" will provide valuable insights and information for the target audience, helping them make informed decisions and contribute to a more sustainable fashion industry.\n",
      "\n",
      "\u001b[00m\n",
      "\u001b[1m\u001b[95m [DEBUG]: == Working Agent: Content Writer\u001b[00m\n",
      "\u001b[1m\u001b[95m [INFO]: == Starting Task: 1. Use the content plan to craft a compelling blog post on YOUR TOPIC HERE.\n",
      "2. Incorporate SEO keywords naturally.\n",
      "3. Sections/Subtitles are properly named in an engaging manner.\n",
      "4. Ensure the post is structured with an engaging introduction, insightful body, and a summarizing conclusion.\n",
      "5. Proofread for grammatical errors and alignment with the brand's voice.\n",
      "\u001b[00m\n",
      "\n",
      "\n",
      "\u001b[1m> Entering new CrewAgentExecutor chain...\u001b[0m\n",
      "\u001b[32;1m\u001b[1;3mI now have a clear understanding of the topic and the key points to cover in the blog post. I will focus on highlighting the latest trends in sustainable fashion, discussing the key players in the industry, and sharing noteworthy news in the field.\n",
      "\n",
      "Final Answer:\n",
      "\n",
      "# Exploring the Latest Trends in Sustainable Fashion\n",
      "\n",
      "In recent years, the fashion industry has witnessed a significant shift towards sustainability, with more brands and consumers embracing eco-friendly practices and ethical production methods. This movement towards sustainable fashion is driven by the growing awareness of the environmental and social impact of the industry. Key players in the fashion world are leading the charge towards sustainability, setting new trends and inspiring others to follow suit.\n",
      "\n",
      "## Latest Trends in Sustainable Fashion\n",
      "\n",
      "One of the prominent trends in sustainable fashion is the use of eco-friendly materials such as organic cotton, hemp, and recycled polyester. These materials not only reduce the environmental footprint of clothing production but also promote a more ethical supply chain. Another trend gaining traction is the adoption of circular fashion practices, including clothing rental and resale. By extending the lifecycle of garments and reducing waste, circular fashion contributes to a more sustainable industry. Moreover, there is an increasing emphasis on transparency and traceability in the supply chain, allowing consumers to make more informed purchasing decisions.\n",
      "\n",
      "## Key Players in Sustainable Fashion\n",
      "\n",
      "Leading the way in sustainable fashion are key players such as Patagonia, known for its commitment to sustainability and environmental activism. Patagonia's innovative approach to eco-friendly materials and ethical production has set a benchmark for the industry. Stella McCartney is another prominent figure in luxury sustainable fashion, combining style and sustainability seamlessly. Eileen Fisher, a pioneer in ethical and sustainable fashion practices, advocates for mindful consumption and responsible production methods.\n",
      "\n",
      "## Noteworthy News in Sustainable Fashion\n",
      "\n",
      "Recent collaborations between sustainable fashion brands and mainstream retailers have brought sustainable fashion into the spotlight, making it more accessible to a wider audience. Success stories of sustainable fashion startups making a mark in the industry showcase the growing demand for ethical and eco-conscious clothing. Legislative changes and initiatives promoting sustainability in fashion are also shaping the industry's future, encouraging brands to prioritize environmental and social responsibility.\n",
      "\n",
      "By exploring the latest trends, key players, and noteworthy news in sustainable fashion, we can gain a deeper understanding of the importance of making conscious choices in our fashion consumption. As millennials and Gen Z consumers, fashion enthusiasts, and industry professionals, we have the power to drive positive change in the fashion industry. Let's continue to support sustainable fashion brands and initiatives, shaping a more sustainable and ethical future for fashion. \n",
      "\n",
      "Remember, the choices we make today can have a lasting impact on the planet and future generations. Let's embrace sustainable fashion and be part of the solution.\n",
      "\n",
      "For further reading and exploration of sustainable fashion practices, check out the Sustainable Apparel Coalition, Fashion Revolution, and The True Cost documentary. Join the movement towards a more sustainable fashion industry today!\u001b[0m\n",
      "\n",
      "\u001b[1m> Finished chain.\u001b[0m\n",
      "\u001b[1m\u001b[92m [DEBUG]: == [Content Writer] Task output: # Exploring the Latest Trends in Sustainable Fashion\n",
      "\n",
      "In recent years, the fashion industry has witnessed a significant shift towards sustainability, with more brands and consumers embracing eco-friendly practices and ethical production methods. This movement towards sustainable fashion is driven by the growing awareness of the environmental and social impact of the industry. Key players in the fashion world are leading the charge towards sustainability, setting new trends and inspiring others to follow suit.\n",
      "\n",
      "## Latest Trends in Sustainable Fashion\n",
      "\n",
      "One of the prominent trends in sustainable fashion is the use of eco-friendly materials such as organic cotton, hemp, and recycled polyester. These materials not only reduce the environmental footprint of clothing production but also promote a more ethical supply chain. Another trend gaining traction is the adoption of circular fashion practices, including clothing rental and resale. By extending the lifecycle of garments and reducing waste, circular fashion contributes to a more sustainable industry. Moreover, there is an increasing emphasis on transparency and traceability in the supply chain, allowing consumers to make more informed purchasing decisions.\n",
      "\n",
      "## Key Players in Sustainable Fashion\n",
      "\n",
      "Leading the way in sustainable fashion are key players such as Patagonia, known for its commitment to sustainability and environmental activism. Patagonia's innovative approach to eco-friendly materials and ethical production has set a benchmark for the industry. Stella McCartney is another prominent figure in luxury sustainable fashion, combining style and sustainability seamlessly. Eileen Fisher, a pioneer in ethical and sustainable fashion practices, advocates for mindful consumption and responsible production methods.\n",
      "\n",
      "## Noteworthy News in Sustainable Fashion\n",
      "\n",
      "Recent collaborations between sustainable fashion brands and mainstream retailers have brought sustainable fashion into the spotlight, making it more accessible to a wider audience. Success stories of sustainable fashion startups making a mark in the industry showcase the growing demand for ethical and eco-conscious clothing. Legislative changes and initiatives promoting sustainability in fashion are also shaping the industry's future, encouraging brands to prioritize environmental and social responsibility.\n",
      "\n",
      "By exploring the latest trends, key players, and noteworthy news in sustainable fashion, we can gain a deeper understanding of the importance of making conscious choices in our fashion consumption. As millennials and Gen Z consumers, fashion enthusiasts, and industry professionals, we have the power to drive positive change in the fashion industry. Let's continue to support sustainable fashion brands and initiatives, shaping a more sustainable and ethical future for fashion. \n",
      "\n",
      "Remember, the choices we make today can have a lasting impact on the planet and future generations. Let's embrace sustainable fashion and be part of the solution.\n",
      "\n",
      "For further reading and exploration of sustainable fashion practices, check out the Sustainable Apparel Coalition, Fashion Revolution, and The True Cost documentary. Join the movement towards a more sustainable fashion industry today!\n",
      "\n",
      "\u001b[00m\n",
      "\u001b[1m\u001b[95m [DEBUG]: == Working Agent: Editor\u001b[00m\n",
      "\u001b[1m\u001b[95m [INFO]: == Starting Task: Proofread the given blog post for grammatical errors and alignment with the brand's voice.\u001b[00m\n",
      "\n",
      "\n",
      "\u001b[1m> Entering new CrewAgentExecutor chain...\u001b[0m\n"
     ]
    },
    {
     "name": "stdout",
     "output_type": "stream",
     "text": [
      "\u001b[32;1m\u001b[1;3mI now can give a great answer.\n",
      "\n",
      "Final Answer: \n",
      "\n",
      "# Exploring the Latest Trends in Sustainable Fashion\n",
      "\n",
      "In recent years, the fashion industry has witnessed a significant shift towards sustainability, with more brands and consumers embracing eco-friendly practices and ethical production methods. This movement towards sustainable fashion is driven by the growing awareness of the environmental and social impact of the industry. Key players in the fashion world are leading the charge towards sustainability, setting new trends and inspiring others to follow suit.\n",
      "\n",
      "## Latest Trends in Sustainable Fashion\n",
      "\n",
      "One of the prominent trends in sustainable fashion is the use of eco-friendly materials such as organic cotton, hemp, and recycled polyester. These materials not only reduce the environmental footprint of clothing production but also promote a more ethical supply chain. Another trend gaining traction is the adoption of circular fashion practices, including clothing rental and resale. By extending the lifecycle of garments and reducing waste, circular fashion contributes to a more sustainable industry. Moreover, there is an increasing emphasis on transparency and traceability in the supply chain, allowing consumers to make more informed purchasing decisions.\n",
      "\n",
      "## Key Players in Sustainable Fashion\n",
      "\n",
      "Leading the way in sustainable fashion are key players such as Patagonia, known for its commitment to sustainability and environmental activism. Patagonia's innovative approach to eco-friendly materials and ethical production has set a benchmark for the industry. Stella McCartney is another prominent figure in luxury sustainable fashion, combining style and sustainability seamlessly. Eileen Fisher, a pioneer in ethical and sustainable fashion practices, advocates for mindful consumption and responsible production methods.\n",
      "\n",
      "## Noteworthy News in Sustainable Fashion\n",
      "\n",
      "Recent collaborations between sustainable fashion brands and mainstream retailers have brought sustainable fashion into the spotlight, making it more accessible to a wider audience. Success stories of sustainable fashion startups making a mark in the industry showcase the growing demand for ethical and eco-conscious clothing. Legislative changes and initiatives promoting sustainability in fashion are also shaping the industry's future, encouraging brands to prioritize environmental and social responsibility.\n",
      "\n",
      "By exploring the latest trends, key players, and noteworthy news in sustainable fashion, we can gain a deeper understanding of the importance of making conscious choices in our fashion consumption. As millennials and Gen Z consumers, fashion enthusiasts, and industry professionals, we have the power to drive positive change in the fashion industry. Let's continue to support sustainable fashion brands and initiatives, shaping a more sustainable and ethical future for fashion. \n",
      "\n",
      "Remember, the choices we make today can have a lasting impact on the planet and future generations. Let's embrace sustainable fashion and be part of the solution.\n",
      "\n",
      "For further reading and exploration of sustainable fashion practices, check out the Sustainable Apparel Coalition, Fashion Revolution, and The True Cost documentary. Join the movement towards a more sustainable fashion industry today!\u001b[0m\n",
      "\n",
      "\u001b[1m> Finished chain.\u001b[0m\n",
      "\u001b[1m\u001b[92m [DEBUG]: == [Editor] Task output: # Exploring the Latest Trends in Sustainable Fashion\n",
      "\n",
      "In recent years, the fashion industry has witnessed a significant shift towards sustainability, with more brands and consumers embracing eco-friendly practices and ethical production methods. This movement towards sustainable fashion is driven by the growing awareness of the environmental and social impact of the industry. Key players in the fashion world are leading the charge towards sustainability, setting new trends and inspiring others to follow suit.\n",
      "\n",
      "## Latest Trends in Sustainable Fashion\n",
      "\n",
      "One of the prominent trends in sustainable fashion is the use of eco-friendly materials such as organic cotton, hemp, and recycled polyester. These materials not only reduce the environmental footprint of clothing production but also promote a more ethical supply chain. Another trend gaining traction is the adoption of circular fashion practices, including clothing rental and resale. By extending the lifecycle of garments and reducing waste, circular fashion contributes to a more sustainable industry. Moreover, there is an increasing emphasis on transparency and traceability in the supply chain, allowing consumers to make more informed purchasing decisions.\n",
      "\n",
      "## Key Players in Sustainable Fashion\n",
      "\n",
      "Leading the way in sustainable fashion are key players such as Patagonia, known for its commitment to sustainability and environmental activism. Patagonia's innovative approach to eco-friendly materials and ethical production has set a benchmark for the industry. Stella McCartney is another prominent figure in luxury sustainable fashion, combining style and sustainability seamlessly. Eileen Fisher, a pioneer in ethical and sustainable fashion practices, advocates for mindful consumption and responsible production methods.\n",
      "\n",
      "## Noteworthy News in Sustainable Fashion\n",
      "\n",
      "Recent collaborations between sustainable fashion brands and mainstream retailers have brought sustainable fashion into the spotlight, making it more accessible to a wider audience. Success stories of sustainable fashion startups making a mark in the industry showcase the growing demand for ethical and eco-conscious clothing. Legislative changes and initiatives promoting sustainability in fashion are also shaping the industry's future, encouraging brands to prioritize environmental and social responsibility.\n",
      "\n",
      "By exploring the latest trends, key players, and noteworthy news in sustainable fashion, we can gain a deeper understanding of the importance of making conscious choices in our fashion consumption. As millennials and Gen Z consumers, fashion enthusiasts, and industry professionals, we have the power to drive positive change in the fashion industry. Let's continue to support sustainable fashion brands and initiatives, shaping a more sustainable and ethical future for fashion. \n",
      "\n",
      "Remember, the choices we make today can have a lasting impact on the planet and future generations. Let's embrace sustainable fashion and be part of the solution.\n",
      "\n",
      "For further reading and exploration of sustainable fashion practices, check out the Sustainable Apparel Coalition, Fashion Revolution, and The True Cost documentary. Join the movement towards a more sustainable fashion industry today!\n",
      "\n",
      "\u001b[00m\n"
     ]
    }
   ],
   "source": [
    "topic = \"YOUR TOPIC HERE\"\n",
    "result = crew.kickoff(inputs={\"topic\": topic})"
   ]
  },
  {
   "cell_type": "code",
   "execution_count": 14,
   "metadata": {
    "height": 30
   },
   "outputs": [
    {
     "data": {
      "text/markdown": [
       "# Exploring the Latest Trends in Sustainable Fashion\n",
       "\n",
       "In recent years, the fashion industry has witnessed a significant shift towards sustainability, with more brands and consumers embracing eco-friendly practices and ethical production methods. This movement towards sustainable fashion is driven by the growing awareness of the environmental and social impact of the industry. Key players in the fashion world are leading the charge towards sustainability, setting new trends and inspiring others to follow suit.\n",
       "\n",
       "## Latest Trends in Sustainable Fashion\n",
       "\n",
       "One of the prominent trends in sustainable fashion is the use of eco-friendly materials such as organic cotton, hemp, and recycled polyester. These materials not only reduce the environmental footprint of clothing production but also promote a more ethical supply chain. Another trend gaining traction is the adoption of circular fashion practices, including clothing rental and resale. By extending the lifecycle of garments and reducing waste, circular fashion contributes to a more sustainable industry. Moreover, there is an increasing emphasis on transparency and traceability in the supply chain, allowing consumers to make more informed purchasing decisions.\n",
       "\n",
       "## Key Players in Sustainable Fashion\n",
       "\n",
       "Leading the way in sustainable fashion are key players such as Patagonia, known for its commitment to sustainability and environmental activism. Patagonia's innovative approach to eco-friendly materials and ethical production has set a benchmark for the industry. Stella McCartney is another prominent figure in luxury sustainable fashion, combining style and sustainability seamlessly. Eileen Fisher, a pioneer in ethical and sustainable fashion practices, advocates for mindful consumption and responsible production methods.\n",
       "\n",
       "## Noteworthy News in Sustainable Fashion\n",
       "\n",
       "Recent collaborations between sustainable fashion brands and mainstream retailers have brought sustainable fashion into the spotlight, making it more accessible to a wider audience. Success stories of sustainable fashion startups making a mark in the industry showcase the growing demand for ethical and eco-conscious clothing. Legislative changes and initiatives promoting sustainability in fashion are also shaping the industry's future, encouraging brands to prioritize environmental and social responsibility.\n",
       "\n",
       "By exploring the latest trends, key players, and noteworthy news in sustainable fashion, we can gain a deeper understanding of the importance of making conscious choices in our fashion consumption. As millennials and Gen Z consumers, fashion enthusiasts, and industry professionals, we have the power to drive positive change in the fashion industry. Let's continue to support sustainable fashion brands and initiatives, shaping a more sustainable and ethical future for fashion. \n",
       "\n",
       "Remember, the choices we make today can have a lasting impact on the planet and future generations. Let's embrace sustainable fashion and be part of the solution.\n",
       "\n",
       "For further reading and exploration of sustainable fashion practices, check out the Sustainable Apparel Coalition, Fashion Revolution, and The True Cost documentary. Join the movement towards a more sustainable fashion industry today!"
      ],
      "text/plain": [
       "<IPython.core.display.Markdown object>"
      ]
     },
     "execution_count": 14,
     "metadata": {},
     "output_type": "execute_result"
    }
   ],
   "source": [
    "Markdown(result)"
   ]
  },
  {
   "cell_type": "markdown",
   "metadata": {},
   "source": [
    "<a name='1'></a>\n",
    " ## Other Popular Models as LLM for your Agents"
   ]
  },
  {
   "cell_type": "markdown",
   "metadata": {},
   "source": [
    "#### Hugging Face (HuggingFaceHub endpoint)\n",
    "\n",
    "```Python\n",
    "from langchain_community.llms import HuggingFaceHub\n",
    "\n",
    "llm = HuggingFaceHub(\n",
    "    repo_id=\"HuggingFaceH4/zephyr-7b-beta\",\n",
    "    huggingfacehub_api_token=\"<HF_TOKEN_HERE>\",\n",
    "    task=\"text-generation\",\n",
    ")\n",
    "\n",
    "### you will pass \"llm\" to your agent function\n",
    "```"
   ]
  },
  {
   "cell_type": "markdown",
   "metadata": {},
   "source": [
    "#### Mistral API\n",
    "\n",
    "```Python\n",
    "OPENAI_API_KEY=your-mistral-api-key\n",
    "OPENAI_API_BASE=https://api.mistral.ai/v1\n",
    "OPENAI_MODEL_NAME=\"mistral-small\"\n",
    "```"
   ]
  },
  {
   "cell_type": "markdown",
   "metadata": {},
   "source": [
    "#### Cohere\n",
    "\n",
    "```Python\n",
    "from langchain_community.chat_models import ChatCohere\n",
    "# Initialize language model\n",
    "os.environ[\"COHERE_API_KEY\"] = \"your-cohere-api-key\"\n",
    "llm = ChatCohere()\n",
    "\n",
    "### you will pass \"llm\" to your agent function\n",
    "```"
   ]
  },
  {
   "cell_type": "markdown",
   "metadata": {},
   "source": [
    "### For using Llama locally with Ollama and more, checkout the crewAI documentation on [Connecting to any LLM](https://docs.crewai.com/how-to/LLM-Connections/)."
   ]
  },
  {
   "cell_type": "code",
   "execution_count": null,
   "metadata": {
    "height": 30
   },
   "outputs": [],
   "source": []
  },
  {
   "cell_type": "code",
   "execution_count": null,
   "metadata": {
    "height": 30
   },
   "outputs": [],
   "source": []
  },
  {
   "cell_type": "code",
   "execution_count": null,
   "metadata": {
    "height": 30
   },
   "outputs": [],
   "source": []
  },
  {
   "cell_type": "code",
   "execution_count": null,
   "metadata": {
    "height": 30
   },
   "outputs": [],
   "source": []
  }
 ],
 "metadata": {
  "colab": {
   "gpuType": "T4",
   "provenance": []
  },
  "kernelspec": {
   "display_name": "Python 3 (ipykernel)",
   "language": "python",
   "name": "python3"
  },
  "language_info": {
   "codemirror_mode": {
    "name": "ipython",
    "version": 3
   },
   "file_extension": ".py",
   "mimetype": "text/x-python",
   "name": "python",
   "nbconvert_exporter": "python",
   "pygments_lexer": "ipython3",
   "version": "3.11.9"
  }
 },
 "nbformat": 4,
 "nbformat_minor": 4
}
